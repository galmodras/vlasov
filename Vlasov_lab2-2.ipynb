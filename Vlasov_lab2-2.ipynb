{
 "cells": [
  {
   "cell_type": "code",
   "execution_count": 1,
   "metadata": {},
   "outputs": [],
   "source": [
    "import numpy as np\n",
    "from numpy import exp, sqrt\n",
    "import matplotlib.pyplot as plt\n",
    "from scipy.integrate import odeint\n",
    "\n",
    "%matplotlib inline"
   ]
  },
  {
   "cell_type": "markdown",
   "metadata": {},
   "source": [
    "Построить алгоритм метода пристрелки для вычисления решения следующей нелинейной задачи:\n",
    "\n",
    "$$\n",
    "\\begin{cases}\n",
    "    y'' = x \\sqrt{y}\\\\\n",
    "    y(0) = 0,\\ \\int^1_0y(x)dx=1\n",
    "\\end{cases}\n",
    "$$"
   ]
  },
  {
   "cell_type": "markdown",
   "metadata": {},
   "source": [
    "---"
   ]
  },
  {
   "cell_type": "markdown",
   "metadata": {},
   "source": [
    " ### 1 Краткое описание метода"
   ]
  },
  {
   "cell_type": "markdown",
   "metadata": {},
   "source": [
    "Решаем задачу:\n",
    "\n",
    "$$\n",
    "\\begin{cases}\n",
    "    y'' = x \\sqrt{y}\\\\\n",
    "    y(0) = 0,\\ y'(0) = \\alpha\n",
    "\\end{cases}\n",
    "$$"
   ]
  },
  {
   "cell_type": "markdown",
   "metadata": {},
   "source": [
    "Тогда для нашего соотношения:"
   ]
  },
  {
   "cell_type": "markdown",
   "metadata": {},
   "source": [
    "$$\n",
    "\\int^1_0y(x)dx=\\beta\n",
    "$$"
   ]
  },
  {
   "cell_type": "markdown",
   "metadata": {},
   "source": [
    "Запишем разностную схему:\n",
    "\n",
    "$$\n",
    "\\begin{cases}\n",
    "    u' = v\\\\\n",
    "    v' = x \\sqrt{u}\n",
    "\\end{cases}\n",
    "$$"
   ]
  },
  {
   "cell_type": "markdown",
   "metadata": {},
   "source": [
    "### 2 Точное решение"
   ]
  },
  {
   "cell_type": "code",
   "execution_count": 2,
   "metadata": {},
   "outputs": [],
   "source": [
    "h = 1e-6\n",
    "x = np.arange(0, 1+h, h)\n",
    "\n",
    "def fun(z, x):\n",
    "    u, v = z\n",
    "    return np.array([v, x*sqrt(u)])\n",
    "\n",
    "exSol = odeint(fun, [0, 1], x)[..., 0]"
   ]
  },
  {
   "cell_type": "code",
   "execution_count": 3,
   "metadata": {},
   "outputs": [
    {
     "data": {
      "text/plain": [
       "[<matplotlib.lines.Line2D at 0x10bf64550>]"
      ]
     },
     "execution_count": 3,
     "metadata": {},
     "output_type": "execute_result"
    },
    {
     "data": {
      "image/png": "[encoded data removed]",
      "text/plain": [
       "<Figure size 432x288 with 1 Axes>"
      ]
     },
     "metadata": {},
     "output_type": "display_data"
    }
   ],
   "source": [
    "plt.plot(x, exSol)"
   ]
  },
  {
   "cell_type": "markdown",
   "metadata": {},
   "source": [
    "### 3 Реализация"
   ]
  },
  {
   "cell_type": "code",
   "execution_count": 4,
   "metadata": {},
   "outputs": [],
   "source": [
    "def explicit(f, y0, interval, h):\n",
    "    y = [y0]\n",
    "    u = [y0[0]]\n",
    "    v = [y0[1]]\n",
    "    x = [interval[0]]\n",
    "    \n",
    "    while x[-1] + h < interval[-1]:\n",
    "        f_1 = f(y[-1], x[-1])\n",
    "        f_2 = f(y[-1]+h*f_1, x[-1]+h)\n",
    "        y_next = y[-1]+h/2*(f_1+f_2)\n",
    "        y.append(y_next)\n",
    "        u.append(y_next[0])\n",
    "        v.append(y_next[1])\n",
    "        x.append(x[-1]+h)\n",
    "        \n",
    "    return y, u, v, x"
   ]
  },
  {
   "cell_type": "markdown",
   "metadata": {},
   "source": [
    "В качестве примера рассмотрим"
   ]
  },
  {
   "cell_type": "code",
   "execution_count": 5,
   "metadata": {},
   "outputs": [
    {
     "data": {
      "text/plain": [
       "[<matplotlib.lines.Line2D at 0x10c22cc50>]"
      ]
     },
     "execution_count": 5,
     "metadata": {},
     "output_type": "execute_result"
    },
    {
     "data": {
      "image/png": "[encoded data removed]",
      "text/plain": [
       "<Figure size 432x288 with 1 Axes>"
      ]
     },
     "metadata": {},
     "output_type": "display_data"
    }
   ],
   "source": [
    " _, resRK_u, _, resRK_x = explicit(f=fun, y0=[0, 1], interval=[0, 1], h=1e-2)\n",
    "\n",
    "plt.plot(resRK_x, resRK_u, 'r', ls='--')\n",
    "plt.plot(x, exSol, 'g', ls='-')"
   ]
  },
  {
   "cell_type": "markdown",
   "metadata": {},
   "source": [
    "### 4 Порядок сходимости"
   ]
  },
  {
   "cell_type": "code",
   "execution_count": 6,
   "metadata": {},
   "outputs": [],
   "source": [
    " _, resRK_u_double, _, _ = explicit(f=fun, y0=[0, 1], interval=[0, 1], h=0.5*1e-2)"
   ]
  },
  {
   "cell_type": "code",
   "execution_count": 7,
   "metadata": {
    "scrolled": true
   },
   "outputs": [
    {
     "name": "stdout",
     "output_type": "stream",
     "text": [
      "Шаг:  0.01 \t Ошибка 1.0328771260947889e-05 \t Err/h^2:  0.10328771260947889\n",
      "Шаг:  0.005 \t Ошибка 2.65176571945247e-06 \t Err/h^2:  0.10607062877809881\n"
     ]
    }
   ],
   "source": [
    "diff = [0]*2\n",
    "diff[0] = abs(resRK_u - exSol[0:-1:10000])\n",
    "diff[1] = abs(resRK_u_double - exSol[0:-1:5000])\n",
    "\n",
    "print('Шаг: ', 1e-2,     '\\t Ошибка', max(diff[0]), '\\t Err/h^2: ', max(diff[0])/(1e-2)**2)\n",
    "print('Шаг: ', 0.5*1e-2, '\\t Ошибка', max(diff[1]), '\\t Err/h^2: ', max(diff[1])/(0.5*1e-2)**2)"
   ]
  },
  {
   "cell_type": "code",
   "execution_count": 8,
   "metadata": {},
   "outputs": [
    {
     "data": {
      "text/plain": [
       "3.8950542218641195"
      ]
     },
     "execution_count": 8,
     "metadata": {},
     "output_type": "execute_result"
    }
   ],
   "source": [
    "1.0328771260947889e-05/2.65176571945247e-06"
   ]
  },
  {
   "cell_type": "markdown",
   "metadata": {},
   "source": [
    "### 5 Решение задачи"
   ]
  },
  {
   "cell_type": "markdown",
   "metadata": {},
   "source": [
    "Проверим непрерывность"
   ]
  },
  {
   "cell_type": "code",
   "execution_count": 8,
   "metadata": {},
   "outputs": [],
   "source": [
    "initDerivative = np.linspace(1e-8, 10, 15)\n",
    "bucket = [0] * len(initDerivative)\n",
    "x      = [0] * len(initDerivative)\n",
    "\n",
    "for i in range(len(initDerivative)):\n",
    "     _, bucket[i], _, x[i] = explicit(f=fun, y0=[0, initDerivative[i]], interval=[0, 1], h=1e-2)"
   ]
  },
  {
   "cell_type": "code",
   "execution_count": 9,
   "metadata": {},
   "outputs": [
    {
     "data": {
      "image/png": "[encoded data removed]",
      "text/plain": [
       "<Figure size 432x288 with 1 Axes>"
      ]
     },
     "metadata": {},
     "output_type": "display_data"
    }
   ],
   "source": [
    "for i in range(len(initDerivative)):\n",
    "    plt.plot(x[i], bucket[i])"
   ]
  },
  {
   "cell_type": "markdown",
   "metadata": {},
   "source": [
    "Получили задачу маломерной оптимизации"
   ]
  },
  {
   "cell_type": "code",
   "execution_count": 35,
   "metadata": {},
   "outputs": [],
   "source": [
    "def lossFunction(fun, h):\n",
    "    \n",
    "    def inner(alpha):\n",
    "        _, y, _, x = explicit(f=fun, y0=[0, alpha], interval=[0, 1], h=h)\n",
    "        I = 0.5*h*y[0]+0.5*h*y[-1]\n",
    "        for i in range(1, len(x)-1):\n",
    "            I += h*y[i]\n",
    "        return I\n",
    "    \n",
    "    return inner"
   ]
  },
  {
   "cell_type": "code",
   "execution_count": 36,
   "metadata": {},
   "outputs": [],
   "source": [
    "def returnMidPoint (a, b):\n",
    "    return (a + b) / 2.\n",
    "\n",
    "# ai - левая граница отрезка на i-ом шаге\n",
    "# bi - правая граница отрезка на i-ом шаге\n",
    "# сi - середина отрезка [ai;bi]\n",
    "# yi - середина отрезка [ai;ci]\n",
    "# zi - середина отрезка [ci;bi]\n",
    "# fxi - f(xi)\n",
    "# [   |   |   |   ]\n",
    "# a   y   c   z   b\n",
    "def dichotomy(f, a, b, epsilon):\n",
    "    c = returnMidPoint(a, b)\n",
    "    \n",
    "    while abs(b - a) > epsilon:\n",
    "        y = returnMidPoint(a, c)\n",
    "        if f(c) >= 1:\n",
    "            # a не изменяется\n",
    "            b = c\n",
    "            c = y\n",
    "        else:\n",
    "            z = returnMidPoint(b, c)\n",
    "            a = c\n",
    "            # b не изменяется\n",
    "            c = z\n",
    "    return c"
   ]
  },
  {
   "cell_type": "code",
   "execution_count": 37,
   "metadata": {},
   "outputs": [],
   "source": [
    "alpha = dichotomy(f=lossFunction(fun=fun, h=1e-2), a=0, b=200, epsilon=1e-3)"
   ]
  },
  {
   "cell_type": "markdown",
   "metadata": {},
   "source": [
    "Таким образом:"
   ]
  },
  {
   "cell_type": "code",
   "execution_count": 44,
   "metadata": {},
   "outputs": [
    {
     "name": "stdout",
     "output_type": "stream",
     "text": [
      "1.9702911376953125\n"
     ]
    }
   ],
   "source": [
    "print(alpha)"
   ]
  },
  {
   "cell_type": "code",
   "execution_count": 45,
   "metadata": {},
   "outputs": [],
   "source": [
    "_, yy, _, xx = explicit(f=fun, y0=[0, alpha], interval=[0, 1], h=1e-2)"
   ]
  },
  {
   "cell_type": "code",
   "execution_count": 46,
   "metadata": {},
   "outputs": [
    {
     "data": {
      "text/plain": [
       "[<matplotlib.lines.Line2D at 0x1520c79358>]"
      ]
     },
     "execution_count": 46,
     "metadata": {},
     "output_type": "execute_result"
    },
    {
     "data": {
      "image/png": "[encoded data removed]",
      "text/plain": [
       "<Figure size 432x288 with 1 Axes>"
      ]
     },
     "metadata": {},
     "output_type": "display_data"
    }
   ],
   "source": [
    "plt.plot(xx, yy)"
   ]
  },
  {
   "cell_type": "code",
   "execution_count": 48,
   "metadata": {},
   "outputs": [
    {
     "name": "stdout",
     "output_type": "stream",
     "text": [
      "0.9998660634556005\n"
     ]
    }
   ],
   "source": [
    "h=1e-2\n",
    "I = 0.5*h*yy[0]+0.5*h*yy[-1]\n",
    "for i in range(1, len(xx)-1):\n",
    "        I += h*yy[i]\n",
    "        \n",
    "print(I)"
   ]
  }
 ],
 "metadata": {
  "kernelspec": {
   "display_name": "Python 3",
   "language": "python",
   "name": "python3"
  },
  "language_info": {
   "codemirror_mode": {
    "name": "ipython",
    "version": 3
   },
   "file_extension": ".py",
   "mimetype": "text/x-python",
   "name": "python",
   "nbconvert_exporter": "python",
   "pygments_lexer": "ipython3",
   "version": "3.7.3"
  }
 },
 "nbformat": 4,
 "nbformat_minor": 2
}
