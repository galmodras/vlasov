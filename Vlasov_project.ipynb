{
 "cells": [
  {
   "cell_type": "code",
   "execution_count": 1,
   "metadata": {},
   "outputs": [],
   "source": [
    "import numpy as np\n",
    "import copy\n",
    "from numpy import exp, sqrt, pi, sin\n",
    "import matplotlib.pyplot as plt\n",
    "\n",
    "from scipy.sparse import diags\n",
    "\n",
    "%matplotlib inline"
   ]
  },
  {
   "cell_type": "markdown",
   "metadata": {},
   "source": [
    "## Практическое задание 2. Задача 3"
   ]
  },
  {
   "cell_type": "markdown",
   "metadata": {},
   "source": [
    "Решить задачу Дирихле в квадрате для уравнения Пуассона с точностью $\\epsilon = 10^{-6}$.\n",
    "\n",
    "$$\n",
    "\\begin{cases}\n",
    "    \\cfrac{\\partial^2 u}{\\partial x^2} + \\cfrac{\\partial^2 u}{\\partial y^2} = -32\\left(x(1-x)+y(1-y)\\right)\\\\\n",
    "    u|_{x, y \\in Г} = 0\n",
    "\\end{cases}\n",
    "$$"
   ]
  },
  {
   "cell_type": "markdown",
   "metadata": {},
   "source": [
    "Использовать пятиточечную аппроксимацию оператора Лапласа. Исследовать зависимость числа итераций, обеспечивающих заданную точность, от количества интервалов сетки по одному направлению. Использовать:\n",
    "\n",
    "* метод Якоби\n",
    "* метод последовательной верхней релаксации при шахматном упорядочивании с оптимальным параметром"
   ]
  },
  {
   "cell_type": "markdown",
   "metadata": {},
   "source": [
    "---"
   ]
  },
  {
   "cell_type": "markdown",
   "metadata": {},
   "source": [
    "### 1 Постановка задачи"
   ]
  },
  {
   "cell_type": "markdown",
   "metadata": {},
   "source": [
    "Будем использовать схему крест для решения данного уравнения:\n",
    "\n",
    "$$\n",
    "\\begin{aligned}\n",
    "\\Lambda_{1}y_{mn} + \\Lambda_{2}y_{mn} =& f_{mn}\\\\\n",
    "\\cfrac{y_{m+1,n}-2y_{mn}+y_{m-1,n}}{h_1^2}+\\cfrac{y_{m,n+1}-2y_{mn}+y_{m,n-1}}{h_2^2} =& f_{mn}\n",
    "\\end{aligned}\n",
    "$$\n",
    "\n",
    "Введем следующие векторные обозначения:\n",
    "\n",
    "$$\n",
    "\\begin{aligned}\n",
    "\\mathbf{f} &= [f_{11}, f_{12}, \\cdots f_{1,n-1}, f_{21}, f_{22}, \\cdots, f_{2,n-1}, f_{31}, \\cdots, f_{m-1,n-1}]^T\\\\\n",
    "\\mathbf{y} &= [y_{11}, y_{12}, \\cdots y_{1,n-1}, y_{21}, y_{22}, \\cdots, y_{2,n-1}, y_{31}, \\cdots, y_{m-1,n-1}]^T\n",
    "\\end{aligned}\n",
    "$$\n",
    "\n",
    "Тогда оператор производных можно записать следующим образом (для определенности для случая 3x3):\n",
    "\n",
    "$$\n",
    "\\begin{bmatrix}\n",
    "    -2/h_1^2-2/h_2^2 & 1/h^2_2 & 0 & 1/h_1^2 & 0 & 0 & 0 & 0 & 0 \\\\\n",
    "    1/h^2_2 & -2/h_1^2-2/h_2^2 & 1/h^2_2 & 0 & 1/h_1^2 & 0 & 0 & 0 & 0 \\\\\n",
    "    0 & 1/h^2_2 & -2/h_1^2-2/h_2^2 & 1/h^2_2 & 0 & 1/h_1^2 & 0 & 0 & 0 \\\\\n",
    "    1/h_1^2 & 0 & 1/h^2_2 & -2/h_1^2-2/h_2^2 & 1/h^2_2 & 0 & 1/h_1^2 & 0 & 0 \\\\\n",
    "    0 & 1/h_1^2 & 0 & 1/h^2_2 & -2/h_1^2-2/h_2^2 & 1/h^2_2 & 0 & 1/h_1^2 & 0 \\\\\n",
    "    0 & 0 & 1/h_1^2 & 0 & 1/h^2_2 & -2/h_1^2-2/h_2^2 & 1/h^2_2 & 0 & 1/h_1^2 \\\\\n",
    "    0 & 0 & 0 & 1/h_1^2 & 0 & 1/h^2_2 & -2/h_1^2-2/h_2^2 & 1/h^2_2 & 0 \\\\\n",
    "    0 & 0 & 0 & 0 & 1/h_1^2 & 0 & 1/h^2_2 & -2/h_1^2-2/h_2^2 & 1/h^2_2 \\\\\n",
    "    0 & 0 & 0 & 0 & 0 & 1/h_1^2 & 0 & 1/h^2_2 & -2/h_1^2-2/h_2^2 \\\\\n",
    "\\end{bmatrix}\n",
    "$$\n",
    "\n",
    "Заметим, что в силу нулевых граничных условий дополнительных модификаций вносить не требуется (см. задачу 1 и 2 из практического задания 2). Отметим, что матрица всегда будет квадратной вне зависимости от выбранной сетки, а в методичке лектора содержится опечатка."
   ]
  },
  {
   "cell_type": "markdown",
   "metadata": {},
   "source": [
    "Таким образом, мы получили следующую систему уравнений с матрицей, определенной выше:\n",
    "\n",
    "$$\n",
    "A\\mathbf{y} = \\mathbf{f}\n",
    "$$"
   ]
  },
  {
   "cell_type": "markdown",
   "metadata": {},
   "source": [
    "Введем следующее разбиение:"
   ]
  },
  {
   "cell_type": "code",
   "execution_count": 2,
   "metadata": {},
   "outputs": [],
   "source": [
    "h1 = 0.5*1e-1\n",
    "h2 = 0.5*1e-1\n",
    "\n",
    "h = [h1, h2]\n",
    "\n",
    "x_m = np.arange(0., 1.+h1, h1)[1:-1]\n",
    "y_n = np.arange(0., 1.+h2, h2)[1:-1]\n",
    "\n",
    "m = len(x_m)\n",
    "n = len(y_n)"
   ]
  },
  {
   "cell_type": "markdown",
   "metadata": {},
   "source": [
    "Тогда для вектора правых частей:"
   ]
  },
  {
   "cell_type": "code",
   "execution_count": 3,
   "metadata": {},
   "outputs": [],
   "source": [
    "def func(x_m, y_n):\n",
    "    m = len(x_m)\n",
    "    n = len(y_n)\n",
    "    f = np.array([0.]*(m*n))\n",
    "\n",
    "    for i in range(m):\n",
    "        for j in range(n):\n",
    "            f[n*i+j] = -32.*(x_m[i]*(1.-x_m[i])+y_n[j]*(1.-y_n[j]))\n",
    "            \n",
    "    return f"
   ]
  },
  {
   "cell_type": "markdown",
   "metadata": {},
   "source": [
    "Теперь зададим матрицу $A$. Следует иметь ввиду, что в общем случае $m \\neq n$. Смещение по other_diag определяется индексом n:"
   ]
  },
  {
   "cell_type": "code",
   "execution_count": 4,
   "metadata": {},
   "outputs": [],
   "source": [
    "main_diag  = [-2./h1**2-2./h2**2]*(m*n)\n",
    "side_diag  = [1./h2**2]*(m*n-1)\n",
    "other_diag = [1./h1**2]*(m*n-n)"
   ]
  },
  {
   "cell_type": "markdown",
   "metadata": {},
   "source": [
    "В пособии Аристовой содержится опечатка, матрица A имеет не совсем такой вид:"
   ]
  },
  {
   "cell_type": "code",
   "execution_count": 5,
   "metadata": {},
   "outputs": [],
   "source": [
    "for i in range(1, m):\n",
    "    side_diag[i*n - 1] = 0"
   ]
  },
  {
   "cell_type": "markdown",
   "metadata": {},
   "source": [
    "По условию задачу требуется решить с заданной точностью:"
   ]
  },
  {
   "cell_type": "code",
   "execution_count": 26,
   "metadata": {},
   "outputs": [],
   "source": [
    "epsilon = 1e-6"
   ]
  },
  {
   "cell_type": "markdown",
   "metadata": {},
   "source": [
    "Точное решение задачи:\n",
    "\n",
    "$$\n",
    "u(x, y) = 16 (x-1) x (y-1) y\n",
    "$$"
   ]
  },
  {
   "cell_type": "code",
   "execution_count": 27,
   "metadata": {},
   "outputs": [],
   "source": [
    "def exact(h):\n",
    "    h1 = h[0]\n",
    "    h2 = h[1]\n",
    "    \n",
    "    x_m = np.arange(0., 1.+h1, h1)[1:-1]\n",
    "    y_n = np.arange(0., 1.+h2, h2)[1:-1]\n",
    "    \n",
    "    m = len(x_m)\n",
    "    n = len(y_n)\n",
    "    f = np.array([0.]*(m*n))\n",
    "\n",
    "    for i in range(m):\n",
    "        for j in range(n):\n",
    "            f[n*i+j] = 16*(x_m[i]-1)*x_m[i]*(y_n[j]-1)*y_n[j]\n",
    "            \n",
    "    matrix_form = np.zeros((n+2, m+2))\n",
    "    for i in range(m):\n",
    "        for j in range(n):\n",
    "            matrix_form[j+1, i+1] = f[n*i+j]\n",
    "            \n",
    "    return matrix_form"
   ]
  },
  {
   "cell_type": "markdown",
   "metadata": {},
   "source": [
    "### 2 Jacobi"
   ]
  },
  {
   "cell_type": "markdown",
   "metadata": {},
   "source": [
    "Запишем метод Якоби в покомпонентном виде (матричное представление не подходит, посколько мы явно не формируем матрицы):\n",
    "\n",
    "$$\n",
    "\\begin{cases}\n",
    "z_1^{(s+1)} = \\cfrac{1}{a_{11}}\\left(f_1 - \\sum_{j=2}^{n} a_{1j}z_{j}^{(s)}\\right)\\\\ \n",
    "\\cdots\\\\\n",
    "z_i^{(s+1)} = \\cfrac{1}{a_{ii}}\\left(f_i - \\sum_{j=1}^{i-1} a_{ij}z_{j}^{(s)} - \\sum_{j=i+1}^{n} a_{ij}z_{j}^{(s)}\\right)\\\\ \n",
    "\\cdots\n",
    "\\end{cases}\n",
    "$$\n",
    "\n",
    "Поскольку матрица разрежена, мы можем упростить эту систему:"
   ]
  },
  {
   "cell_type": "markdown",
   "metadata": {},
   "source": [
    "$$\n",
    "\\begin{cases}\n",
    "z_1^{(s+1)} = \\cfrac{1}{a_{11}}\\left(f_1 - a_{12}z_{2} - a_{1,1+n}z_{1+n} \\right)\\\\ \n",
    "\\cdots\\\\\n",
    "z_i^{(s+1)} = \\cfrac{1}{a_{ii}}\\left(f_i - a_{i,i-n}z_{i-n} - a_{i,i-1}z_{i-1} - a_{i,i+1}z_{i+1} - a_{i,i+n}z_{i+n}\\right)\\\\ \n",
    "\\cdots\n",
    "\\end{cases}\n",
    "$$"
   ]
  },
  {
   "cell_type": "markdown",
   "metadata": {},
   "source": [
    "Начальное приближение:"
   ]
  },
  {
   "cell_type": "code",
   "execution_count": 28,
   "metadata": {},
   "outputs": [],
   "source": [
    "initial_guess = np.array([.5]*(m*n))"
   ]
  },
  {
   "cell_type": "markdown",
   "metadata": {},
   "source": [
    "Реализация (корректно работает при $f = 0$):"
   ]
  },
  {
   "cell_type": "code",
   "execution_count": 29,
   "metadata": {},
   "outputs": [],
   "source": [
    "def jacobi_solver(h, func, eps, max_iter):\n",
    "    h1 = h[0]\n",
    "    h2 = h[1]\n",
    "    \n",
    "    x_m = np.arange(0., 1.+h1, h1)[1:-1]\n",
    "    y_n = np.arange(0., 1.+h2, h2)[1:-1]\n",
    "    \n",
    "    m = len(x_m)\n",
    "    n = len(y_n)\n",
    "    \n",
    "    m_d = np.array([-2./h1**2-2./h2**2]*(m*n))\n",
    "    s_d = np.array([1./h2**2]*(m*n-1))\n",
    "    o_d = np.array([1./h1**2]*(m*n-n))\n",
    "    f   = func(x_m, y_n)\n",
    "    \n",
    "    for i in range(1, m):\n",
    "        s_d[i*n - 1] = 0\n",
    "    \n",
    "    curr_val = np.array([.5]*(m*n))\n",
    "    next_val = np.array([.5]*(m*n))\n",
    "    iterations = 0\n",
    "    \n",
    "    \n",
    "    \n",
    "    # ------------ main while loop ------------\n",
    "    while True:\n",
    "        # first row\n",
    "        next_val[0] = 1/m_d[0]*(f[0] - s_d[0]*curr_val[1] \\\n",
    "                                     - o_d[0]*curr_val[n])\n",
    "        \n",
    "        # first part\n",
    "        i = np.array(range(1, n))\n",
    "        next_val[i] = 1/m_d[i]*(f[i] - s_d[i-1]*curr_val[i-1] \\\n",
    "                                     - s_d[i]  *curr_val[i+1] \\\n",
    "                                     - o_d[i]  *curr_val[i+n])\n",
    "        \n",
    "        # update middle\n",
    "        i = np.array(range(n, m*n-n))\n",
    "        next_val[i] = 1/m_d[i]*(f[i] - o_d[i-n]*curr_val[i-n] \\\n",
    "                                     - s_d[i-1]*curr_val[i-1] \\\n",
    "                                     - s_d[i]  *curr_val[i+1] \\\n",
    "                                     - o_d[i]  *curr_val[i+n])\n",
    "        \n",
    "        # update second part\n",
    "        i = np.array(range(m*n-n, m*n-1))\n",
    "        next_val[i] = 1/m_d[i]*(f[i] - o_d[i-n]*curr_val[i-n] \\\n",
    "                                     - s_d[i-1]*curr_val[i-1] \\\n",
    "                                     - s_d[i]  *curr_val[i+1])\n",
    "        \n",
    "        # last row\n",
    "        next_val[(m*n-1)] = 1/m_d[(m*n-1)]*(f[(m*n-1)] - o_d[(m*n-1)-n]*curr_val[(m*n-1)-n] \\\n",
    "                                                       - s_d[(m*n-1)-1]*curr_val[(m*n-1)-1])\n",
    "        \n",
    "        \n",
    "        # print(curr_val is next_val)\n",
    "        # print(curr_val == next_val)\n",
    "        \n",
    "        if iterations > max_iter:\n",
    "            break\n",
    "            \n",
    "        if np.linalg.norm(next_val - curr_val) < eps:\n",
    "            break\n",
    "            \n",
    "        curr_val   = copy.copy(next_val)\n",
    "        iterations = iterations + 1\n",
    "        \n",
    "            \n",
    "        \n",
    "    # ------------ end of main while loop ------------\n",
    "        \n",
    "    # convert to matrix\n",
    "    matrix_form = np.zeros((n+2, m+2))\n",
    "    \n",
    "    for i in range(m):\n",
    "        for j in range(n):\n",
    "            matrix_form[j+1, i+1] = curr_val[n*i+j]\n",
    "            \n",
    "    # graphics\n",
    "    extent = [x_m[0]-h1/2, x_m[-1]+h1/2, y_n[0]-h2/2, y_n[-1]+h2/2]\n",
    "    \n",
    "    return {'res': matrix_form, 'iter': iterations, 'extent': extent, 'tol': np.linalg.norm(next_val - curr_val)}"
   ]
  },
  {
   "cell_type": "markdown",
   "metadata": {},
   "source": [
    "Запускаем солвер"
   ]
  },
  {
   "cell_type": "code",
   "execution_count": 30,
   "metadata": {},
   "outputs": [],
   "source": [
    "jac_solution = jacobi_solver(h=h, func=func, eps=1e-3, max_iter=10000)"
   ]
  },
  {
   "cell_type": "code",
   "execution_count": 31,
   "metadata": {},
   "outputs": [
    {
     "data": {
      "text/plain": [
       "280"
      ]
     },
     "execution_count": 31,
     "metadata": {},
     "output_type": "execute_result"
    }
   ],
   "source": [
    "jac_solution['iter']"
   ]
  },
  {
   "cell_type": "code",
   "execution_count": 32,
   "metadata": {},
   "outputs": [
    {
     "data": {
      "text/plain": [
       "0.0009894602916000433"
      ]
     },
     "execution_count": 32,
     "metadata": {},
     "output_type": "execute_result"
    }
   ],
   "source": [
    "jac_solution['tol']"
   ]
  },
  {
   "cell_type": "markdown",
   "metadata": {},
   "source": [
    "Строим решение"
   ]
  },
  {
   "cell_type": "code",
   "execution_count": 33,
   "metadata": {},
   "outputs": [
    {
     "data": {
      "text/plain": [
       "<matplotlib.image.AxesImage at 0x116027080>"
      ]
     },
     "execution_count": 33,
     "metadata": {},
     "output_type": "execute_result"
    },
    {
     "data": {
      "image/png": "[encoded data removed]",
      "text/plain": [
       "<Figure size 432x288 with 1 Axes>"
      ]
     },
     "metadata": {},
     "output_type": "display_data"
    }
   ],
   "source": [
    "plt.imshow(jac_solution['res'], extent=jac_solution['extent'])"
   ]
  },
  {
   "cell_type": "markdown",
   "metadata": {},
   "source": [
    "### 4 Точное решение"
   ]
  },
  {
   "cell_type": "markdown",
   "metadata": {},
   "source": [
    "Полоучим точное решение"
   ]
  },
  {
   "cell_type": "code",
   "execution_count": 34,
   "metadata": {
    "scrolled": false
   },
   "outputs": [],
   "source": [
    "#A = diags([other_diag, side_diag, main_diag, side_diag, other_diag], [-n,-1,0,1,n]).toarray()\n",
    "#f2 = np.linalg.inv(A).dot(func(x_m, y_n))\n",
    "exact_solution = exact(h=h)"
   ]
  },
  {
   "cell_type": "code",
   "execution_count": 35,
   "metadata": {},
   "outputs": [
    {
     "data": {
      "text/plain": [
       "<matplotlib.image.AxesImage at 0x116170e48>"
      ]
     },
     "execution_count": 35,
     "metadata": {},
     "output_type": "execute_result"
    },
    {
     "data": {
      "image/png": "[encoded data removed]",
      "text/plain": [
       "<Figure size 432x288 with 1 Axes>"
      ]
     },
     "metadata": {},
     "output_type": "display_data"
    }
   ],
   "source": [
    "plt.imshow(exact_solution, extent=[x_m[0]-h1/2, x_m[-1]+h1/2, y_n[0]-h2/2, y_n[-1]+h2/2])"
   ]
  },
  {
   "cell_type": "markdown",
   "metadata": {},
   "source": [
    "### 5 Исследуем порядок аппроксимации"
   ]
  },
  {
   "cell_type": "markdown",
   "metadata": {},
   "source": [
    "Смотрим на график с ошибками"
   ]
  },
  {
   "cell_type": "code",
   "execution_count": 36,
   "metadata": {},
   "outputs": [
    {
     "data": {
      "text/plain": [
       "<matplotlib.image.AxesImage at 0x11624d358>"
      ]
     },
     "execution_count": 36,
     "metadata": {},
     "output_type": "execute_result"
    },
    {
     "data": {
      "image/png": "[encoded data removed]",
      "text/plain": [
       "<Figure size 432x288 with 1 Axes>"
      ]
     },
     "metadata": {},
     "output_type": "display_data"
    }
   ],
   "source": [
    "plt.imshow(jac_solution['res'] - exact_solution)"
   ]
  },
  {
   "cell_type": "markdown",
   "metadata": {},
   "source": [
    "Будем использовать метод сгущающихся сеток для определения порядка аппроксимации. Найдем точное и приближенное на двойной сетке"
   ]
  },
  {
   "cell_type": "code",
   "execution_count": 37,
   "metadata": {},
   "outputs": [],
   "source": [
    "jac_solution_double = jacobi_solver(h=0.5*np.array(h), func=func, eps=1e-3, max_iter=10000)\n",
    "exact_solution_double = exact(h=0.5*np.array(h))"
   ]
  },
  {
   "cell_type": "markdown",
   "metadata": {},
   "source": [
    "Смотрим на ошибки"
   ]
  },
  {
   "cell_type": "code",
   "execution_count": 48,
   "metadata": {},
   "outputs": [
    {
     "name": "stdout",
     "output_type": "stream",
     "text": [
      "Шаг:  0.05 \t Ошибка 0.08035264435268946\n",
      "Шаг:  0.025 \t Ошибка 0.32422782206220185 \n",
      "\n",
      "Отношение 4.035061007315184\n"
     ]
    }
   ],
   "source": [
    "a = np.linalg.norm(np.array(jac_solution['res']        - exact_solution))\n",
    "b = np.linalg.norm(np.array(jac_solution_double['res'] - exact_solution_double))\n",
    "\n",
    "print('Шаг: ', h[0],     '\\t Ошибка', a)\n",
    "print('Шаг: ', 0.5*h[0], '\\t Ошибка', b, '\\n')\n",
    "print('Отношение', b/a)"
   ]
  },
  {
   "cell_type": "markdown",
   "metadata": {},
   "source": [
    "Итак, отличие в 4 раза, что подтверждает тот факт, что схема 2-ого порядка аппроксимации.,"
   ]
  },
  {
   "cell_type": "markdown",
   "metadata": {},
   "source": [
    "### 6 Метод последовательной верхней релаксации"
   ]
  },
  {
   "cell_type": "markdown",
   "metadata": {},
   "source": [
    "Реализация алгоритма"
   ]
  },
  {
   "cell_type": "code",
   "execution_count": 20,
   "metadata": {},
   "outputs": [],
   "source": [
    "def sor_solver(h, func, eps, max_iter):\n",
    "    def mask(m, n):\n",
    "        a = [True, False]*(int(m/2))+[True]*(m%2)\n",
    "        b = [not x for x in a]\n",
    "        black_bool = np.array((a+b)*(int(n/2))+a*(n%2))\n",
    "        white_bool = np.array([not x for x in black_bool])\n",
    "        black_ind = np.where(black_bool == True)[0]\n",
    "        white_ind = np.where(white_bool == True)[0]\n",
    "        return black_bool, black_ind, white_bool, white_ind\n",
    "    \n",
    "    def sor_iter(current, ind):\n",
    "        old = current\n",
    "        \n",
    "        if (0 in ind):\n",
    "            current[0] = 1/m_d[0]*(f[0] - s_d[0]*current[1] \\\n",
    "                                        - o_d[0]*current[n])\n",
    "        for i in range(1, n):\n",
    "            if (i in ind):\n",
    "                current[i] = 1/m_d[i]*(f[i] - s_d[i-1]*current[i-1] \\\n",
    "                                            - s_d[i]  *current[i+1] \\\n",
    "                                            - o_d[i]  *current[i+n])\n",
    "        for i in range(n, m*n-n):\n",
    "            if (i in ind):\n",
    "                current[i] = 1/m_d[i]*(f[i] - o_d[i-n]*current[i-n] \\\n",
    "                                            - s_d[i-1]*current[i-1] \\\n",
    "                                            - s_d[i]  *current[i+1] \\\n",
    "                                            - o_d[i]  *current[i+n])\n",
    "        for i in range(m*n-n, m*n-1):\n",
    "            if (i in ind):\n",
    "                current[i] = 1/m_d[i]*(f[i] - o_d[i-n]*current[i-n] \\\n",
    "                                            - s_d[i-1]*current[i-1] \\\n",
    "                                            - s_d[i]  *current[i+1])\n",
    "                \n",
    "        if (m*n-1 in ind):\n",
    "            current[m*n-1] = 1/m_d[m*n-1]*(f[m*n-1] - o_d[m*n-1-n]*current[m*n-1-n] \\\n",
    "                                                    - s_d[m*n-1-1]*current[m*n-1-1])\n",
    "        return old + 1.*(current-old)\n",
    "    \n",
    "    h1 = h[0]\n",
    "    h2 = h[1]\n",
    "    \n",
    "    x_m = np.arange(0., 1.+h1, h1)[1:-1]\n",
    "    y_n = np.arange(0., 1.+h2, h2)[1:-1]\n",
    "    \n",
    "    m = len(x_m)\n",
    "    n = len(y_n)\n",
    "    \n",
    "    m_d = np.array([-2./h1**2-2./h2**2]*(m*n))\n",
    "    s_d = np.array([1./h2**2]*(m*n-1))\n",
    "    o_d = np.array([1./h1**2]*(m*n-n))\n",
    "    f   = func(x_m, y_n)\n",
    "    \n",
    "    for i in range(1, m):\n",
    "        s_d[i*n - 1] = 0\n",
    "    \n",
    "    curr_val = np.array([.5]*(m*n))\n",
    "    next_val = np.array([.5]*(m*n))\n",
    "    iterations = 0\n",
    "    \n",
    "    # define mask for chess order\n",
    "    black_bool, black_ind, white_bool, white_ind = mask(m=m, n=n)\n",
    "    \n",
    "    \n",
    "    # ------------ main while loop ------------\n",
    "    while True:\n",
    "        # SOR for black\n",
    "        next_val[black_ind] = sor_iter(current=next_val, ind=black_ind)[black_ind]\n",
    "        \n",
    "        # SOR for white\n",
    "        next_val[white_ind] = sor_iter(current=next_val, ind=white_ind)[white_ind]\n",
    "        \n",
    "        if iterations > max_iter:\n",
    "            break\n",
    "            \n",
    "        if np.linalg.norm(next_val - curr_val) < eps:\n",
    "            break\n",
    "            \n",
    "        curr_val   = copy.copy(next_val)\n",
    "        iterations = iterations + 1\n",
    "    # ------------ end of main while loop ------------\n",
    "        \n",
    "    \n",
    "    # convert to matrix\n",
    "    matrix_form = np.zeros((n+2, m+2))\n",
    "    \n",
    "    for i in range(m):\n",
    "        for j in range(n):\n",
    "            matrix_form[j+1, i+1] = curr_val[n*i+j]\n",
    "    \n",
    "    # graphics\n",
    "    extent = [x_m[0]-h1/2, x_m[-1]+h1/2, y_n[0]-h2/2, y_n[-1]+h2/2]\n",
    "    \n",
    "    return {'res': matrix_form, 'iter': iterations, 'extent': extent}"
   ]
  },
  {
   "cell_type": "markdown",
   "metadata": {},
   "source": [
    "Запускаем солвер"
   ]
  },
  {
   "cell_type": "code",
   "execution_count": 21,
   "metadata": {},
   "outputs": [],
   "source": [
    "sor_solution = sor_solver(h=h, func=func, eps=1e-3, max_iter=1000)"
   ]
  },
  {
   "cell_type": "code",
   "execution_count": 22,
   "metadata": {},
   "outputs": [
    {
     "data": {
      "text/plain": [
       "168"
      ]
     },
     "execution_count": 22,
     "metadata": {},
     "output_type": "execute_result"
    }
   ],
   "source": [
    "sor_solution['iter']"
   ]
  },
  {
   "cell_type": "markdown",
   "metadata": {},
   "source": [
    "Строим"
   ]
  },
  {
   "cell_type": "code",
   "execution_count": 23,
   "metadata": {},
   "outputs": [
    {
     "data": {
      "text/plain": [
       "<matplotlib.image.AxesImage at 0x113c6e208>"
      ]
     },
     "execution_count": 23,
     "metadata": {},
     "output_type": "execute_result"
    },
    {
     "data": {
      "image/png": "[encoded data removed]",
      "text/plain": [
       "<Figure size 432x288 with 1 Axes>"
      ]
     },
     "metadata": {},
     "output_type": "display_data"
    }
   ],
   "source": [
    "plt.imshow(sor_solution['res'], extent=sor_solution['extent'])"
   ]
  },
  {
   "cell_type": "markdown",
   "metadata": {},
   "source": [
    "### 5 Несимметричная сетка"
   ]
  },
  {
   "cell_type": "code",
   "execution_count": 24,
   "metadata": {},
   "outputs": [],
   "source": [
    "jac_solution_n = jacobi_solver(h=[1e-2,1e-1], func=func, eps=epsilon, max_iter=1000)"
   ]
  },
  {
   "cell_type": "code",
   "execution_count": 25,
   "metadata": {},
   "outputs": [
    {
     "data": {
      "text/plain": [
       "<matplotlib.image.AxesImage at 0x115f4f0b8>"
      ]
     },
     "execution_count": 25,
     "metadata": {},
     "output_type": "execute_result"
    },
    {
     "data": {
      "image/png": "[encoded data removed]",
      "text/plain": [
       "<Figure size 432x288 with 1 Axes>"
      ]
     },
     "metadata": {},
     "output_type": "display_data"
    }
   ],
   "source": [
    "plt.imshow(jac_solution_n['res'], extent=sor_solution['extent'])"
   ]
  },
  {
   "cell_type": "code",
   "execution_count": null,
   "metadata": {},
   "outputs": [],
   "source": []
  }
 ],
 "metadata": {
  "kernelspec": {
   "display_name": "Python 3",
   "language": "python",
   "name": "python3"
  },
  "language_info": {
   "codemirror_mode": {
    "name": "ipython",
    "version": 3
   },
   "file_extension": ".py",
   "mimetype": "text/x-python",
   "name": "python",
   "nbconvert_exporter": "python",
   "pygments_lexer": "ipython3",
   "version": "3.6.5"
  }
 },
 "nbformat": 4,
 "nbformat_minor": 2
}
