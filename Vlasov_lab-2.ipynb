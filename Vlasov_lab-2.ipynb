{
 "cells": [
  {
   "cell_type": "code",
   "execution_count": 1,
   "metadata": {},
   "outputs": [],
   "source": [
    "import numpy as np\n",
    "from numpy import exp, sqrt, pi, sin\n",
    "import matplotlib.pyplot as plt\n",
    "\n",
    "from scipy.sparse import diags\n",
    "\n",
    "%matplotlib inline"
   ]
  },
  {
   "cell_type": "markdown",
   "metadata": {},
   "source": [
    "Численно найти решение задачи теплопроводности с источником на конечном отрезке:\n",
    "\n",
    "$$\n",
    "\\begin{cases}\n",
    "    u_t = u_{xx} + \\pi^2 sin(\\pi x)\\\\\n",
    "    u(0, t) = 0,\\ u(1,t) = 0\\\\\n",
    "    u(x,0) = 0\n",
    "\\end{cases}\n",
    "$$"
   ]
  },
  {
   "cell_type": "markdown",
   "metadata": {},
   "source": [
    "Использовать по времени:\n",
    "\n",
    "1. явный метод Рунге–Кутты второго порядка аппроксимации (метод Эйлера с пересчетом)\n",
    "2. классический метод Рунге–Кутты четвертого порядка аппроксимации\n",
    "\n",
    "Методом разделения переменных найти точное решение задачи и сравнить с численным."
   ]
  },
  {
   "cell_type": "markdown",
   "metadata": {},
   "source": [
    "---"
   ]
  },
  {
   "cell_type": "markdown",
   "metadata": {},
   "source": [
    "### 0 Постановка задачи"
   ]
  },
  {
   "cell_type": "markdown",
   "metadata": {},
   "source": [
    "Введем обозначение:\n",
    "\n",
    "$$\n",
    "\\mathbf{y} = \n",
    "\\begin{bmatrix}\n",
    "    y_{1} \\\\\n",
    "    y_{2} \\\\\n",
    "    \\vdots \\\\\n",
    "    y_{m-1}\n",
    "\\end{bmatrix}\\ \\ \\ \\ \n",
    "\\mathbf{f} = \n",
    "\\begin{bmatrix}\n",
    "    f(x_1, t) \\\\\n",
    "    f(x_2, t) \\\\\n",
    "    \\vdots \\\\\n",
    "    f(x_{m-1}, t)\n",
    "\\end{bmatrix}\n",
    "$$\n",
    "\n",
    "где мы ввели дискретизацию по времени. Заметим, что значения $y_0$ и $y_{m}$ нам известны:\n",
    "\n",
    "$$\n",
    "y_0 = 0,\\ y_m = 0\n",
    "$$\n",
    "\n",
    "Тогда наше уравнение можно переписать в виде:\n",
    "\n",
    "$$\n",
    "\\cfrac{d}{dt}\\mathbf{y} = A \\mathbf{y} + \\mathbf{f}\n",
    "$$\n",
    "\n",
    "Запишем оператор второй производной для первой точки и последней точки:\n",
    "\n",
    "$$\n",
    "\\cfrac{y_2 - 2y_1+y_0}{h^2} = \\cfrac{y_2 - 2y_1}{h^2}\n",
    "$$"
   ]
  },
  {
   "cell_type": "markdown",
   "metadata": {},
   "source": [
    "$$\n",
    "\\cfrac{y_m - 2y_{m-1} + y_{m-2}}{h^2} = \\cfrac{-2y_{m-1} + y_{m-2}}{h^2}\n",
    "$$"
   ]
  },
  {
   "cell_type": "markdown",
   "metadata": {},
   "source": [
    "$$\n",
    "A = \\cfrac{1}{h^2}\n",
    "\\begin{bmatrix}\n",
    "    -2 & 1 & 0 & \\cdots & 0 \\\\\n",
    "    1 & -2 & 1 & \\cdots & 0\\\\\n",
    "    0 & 1 & -2 & \\cdots & 0\\\\\n",
    "    \\vdots & \\vdots & \\vdots & \\vdots & \\vdots\\\\\n",
    "    0 & 0 & 0 & \\cdots & -2\n",
    "\\end{bmatrix}\n",
    "$$"
   ]
  },
  {
   "cell_type": "markdown",
   "metadata": {},
   "source": [
    "Итак, мы получили задачу:\n",
    "\n",
    "$$\n",
    "\\begin{cases}\n",
    "    \\cfrac{d}{dt}\\mathbf{y} = F(\\mathbf{y})\\\\\n",
    "    \\mathbf{y}(0) = \\mathbf{0}\n",
    "\\end{cases}\n",
    "$$"
   ]
  },
  {
   "cell_type": "markdown",
   "metadata": {},
   "source": [
    "Для решения системы будем использовать метод Рунге-Кутты."
   ]
  },
  {
   "cell_type": "markdown",
   "metadata": {},
   "source": [
    "### 1 Preliminaries"
   ]
  },
  {
   "cell_type": "code",
   "execution_count": 55,
   "metadata": {},
   "outputs": [],
   "source": [
    "h  = 0.5*1e-1\n",
    "dt = 1e-3\n",
    "x = np.arange(0, 1+h, h)\n",
    "m = len(x)\n",
    "\n",
    "f = pi**2 * np.sin(pi*x[1:-1])\n",
    "A = diags([[1]*(m-3), [-2]*(m-2),[1]*(m-3)], [-1,0,1]).toarray()"
   ]
  },
  {
   "cell_type": "code",
   "execution_count": 56,
   "metadata": {},
   "outputs": [],
   "source": [
    "def F(y):\n",
    "    return 1/h**2*A.dot(y) + f"
   ]
  },
  {
   "cell_type": "markdown",
   "metadata": {},
   "source": [
    "Точное решение:"
   ]
  },
  {
   "cell_type": "code",
   "execution_count": 57,
   "metadata": {},
   "outputs": [],
   "source": [
    "def exact(x, t):\n",
    "    return list((1-exp(-pi**2*t))*np.sin(pi*x))"
   ]
  },
  {
   "cell_type": "code",
   "execution_count": 58,
   "metadata": {},
   "outputs": [],
   "source": [
    "def exact_solve(f, x, interval, dt):\n",
    "    t = interval[0]\n",
    "    res = []\n",
    "    \n",
    "    while t + dt < interval[1]:\n",
    "        res.append(f(x, t))\n",
    "        t += dt\n",
    "        \n",
    "    return np.array(res)"
   ]
  },
  {
   "cell_type": "code",
   "execution_count": 59,
   "metadata": {},
   "outputs": [],
   "source": [
    "exactSolution = exact_solve(f=exact, x=x, interval=[0,1], dt=dt)"
   ]
  },
  {
   "cell_type": "markdown",
   "metadata": {},
   "source": [
    "### 2 Явный метод Рунге–Кутты второго порядка аппроксимации"
   ]
  },
  {
   "cell_type": "markdown",
   "metadata": {},
   "source": [
    "Метод:\n",
    "\n",
    "$$\n",
    "\\begin{aligned}\n",
    "f_1 =& f(t_n, y_n)\\\\\n",
    "f_2 =& f(t_n + dt, y_n + dt f_1)\\\\\n",
    "y_{n+1} =& y_n + \\cfrac{dt}{2}(f_1 + f_2)\n",
    "\\end{aligned}\n",
    "$$"
   ]
  },
  {
   "cell_type": "code",
   "execution_count": 60,
   "metadata": {},
   "outputs": [],
   "source": [
    "def explicit(f, y0, interval, dt):\n",
    "    y = [y0]\n",
    "    t = interval[0]\n",
    "    t=dt\n",
    "    \n",
    "    while t + dt < interval[1]:\n",
    "        f_1 = f(y[-1])\n",
    "        f_2 = f(y[-1]+dt*f_1)\n",
    "        y_next = y[-1]+dt/2*(f_1+f_2)\n",
    "        y.append(y_next)\n",
    "        t += dt\n",
    "        \n",
    "    return y"
   ]
  },
  {
   "cell_type": "code",
   "execution_count": 61,
   "metadata": {},
   "outputs": [],
   "source": [
    "explicitSolution = explicit(f=F, y0=[0]*(m-2), interval=[0,1], dt=dt)"
   ]
  },
  {
   "cell_type": "code",
   "execution_count": 62,
   "metadata": {},
   "outputs": [],
   "source": [
    "for i in range(len(explicitSolution)):\n",
    "    explicitSolution[i] = np.insert(explicitSolution[i], 0, 0)\n",
    "    explicitSolution[i] = np.append(explicitSolution[i], 0)"
   ]
  },
  {
   "cell_type": "code",
   "execution_count": 63,
   "metadata": {},
   "outputs": [],
   "source": [
    "explicitSolution = np.array(explicitSolution)"
   ]
  },
  {
   "cell_type": "code",
   "execution_count": 64,
   "metadata": {},
   "outputs": [
    {
     "data": {
      "image/png": "[encoded data removed]",
      "text/plain": [
       "<Figure size 432x288 with 1 Axes>"
      ]
     },
     "metadata": {},
     "output_type": "display_data"
    }
   ],
   "source": [
    "i = 0\n",
    "for i in range(20, 100, 20):\n",
    "    plt.plot(explicitSolution[i])\n",
    "    plt.plot(exactSolution[i])\n",
    "    i += 1"
   ]
  },
  {
   "cell_type": "markdown",
   "metadata": {},
   "source": [
    "### 3 Порядок аппроксимации"
   ]
  },
  {
   "cell_type": "code",
   "execution_count": 66,
   "metadata": {},
   "outputs": [],
   "source": [
    "diff = []\n",
    "\n",
    "for i in range(len(exactSolution)):\n",
    "    diff.append(max(abs(exactSolution[i] - explicitSolution[i])))"
   ]
  },
  {
   "cell_type": "code",
   "execution_count": 27,
   "metadata": {},
   "outputs": [
    {
     "data": {
      "text/plain": [
       "0.825989412202721"
      ]
     },
     "execution_count": 27,
     "metadata": {},
     "output_type": "execute_result"
    }
   ],
   "source": [
    "max(diff)/(h**2)"
   ]
  },
  {
   "cell_type": "code",
   "execution_count": 28,
   "metadata": {},
   "outputs": [
    {
     "data": {
      "text/plain": [
       "0.1"
      ]
     },
     "execution_count": 28,
     "metadata": {},
     "output_type": "execute_result"
    }
   ],
   "source": [
    "h"
   ]
  },
  {
   "cell_type": "code",
   "execution_count": 29,
   "metadata": {},
   "outputs": [
    {
     "data": {
      "text/plain": [
       "0.005"
      ]
     },
     "execution_count": 29,
     "metadata": {},
     "output_type": "execute_result"
    }
   ],
   "source": [
    "dt"
   ]
  },
  {
   "cell_type": "code",
   "execution_count": 30,
   "metadata": {},
   "outputs": [
    {
     "data": {
      "text/plain": [
       "330.39576488108844"
      ]
     },
     "execution_count": 30,
     "metadata": {},
     "output_type": "execute_result"
    }
   ],
   "source": [
    "max(diff)/(dt**2)"
   ]
  },
  {
   "cell_type": "code",
   "execution_count": 32,
   "metadata": {},
   "outputs": [
    {
     "data": {
      "text/plain": [
       "0.008259894122027212"
      ]
     },
     "execution_count": 32,
     "metadata": {},
     "output_type": "execute_result"
    }
   ],
   "source": [
    "max(diff)"
   ]
  },
  {
   "cell_type": "code",
   "execution_count": 67,
   "metadata": {},
   "outputs": [
    {
     "data": {
      "text/plain": [
       "0.0020575088732677216"
      ]
     },
     "execution_count": 67,
     "metadata": {},
     "output_type": "execute_result"
    }
   ],
   "source": [
    "max(diff)"
   ]
  },
  {
   "cell_type": "markdown",
   "metadata": {},
   "source": [
    "### 4 Классический метод Рунге–Кутты четвертого порядка аппроксимации"
   ]
  },
  {
   "cell_type": "markdown",
   "metadata": {},
   "source": [
    "Метод:\n",
    "\n",
    "$$\n",
    "\\begin{aligned}\n",
    "f_1 =& f(t_n, y_n)\\\\\n",
    "f_2 =& f\\left(t_n + \\cfrac{dt}2, y_n + \\cfrac{dt}{2}f_1 \\right)\\\\\n",
    "f_3 =& f\\left(t_n + \\cfrac{dt}2, y_n + \\cfrac{dt}{2}f_2 \\right)\\\\\n",
    "f_4 =& f\\left(t_n + dt, y_n + dtf_3 \\right)\\\\\n",
    "y_{n+1} =& y_n + \\cfrac{dt}{6}\\left(f_1 + 2f_2 + 2f_3 + f_4\\right)\n",
    "\\end{aligned}\n",
    "$$"
   ]
  },
  {
   "cell_type": "code",
   "execution_count": 15,
   "metadata": {},
   "outputs": [],
   "source": [
    "def classic(f, y0, interval, dt):\n",
    "    y = [y0]\n",
    "    t = interval[0]\n",
    "    \n",
    "    while t + dt < interval[1]:\n",
    "        f_1 = f(y[-1])\n",
    "        f_2 = f(y[-1]+dt/2*f_1)\n",
    "        f_3 = f(y[-1]+dt/2*f_2)\n",
    "        f_4 = f(y[-1]+dt*f_3)\n",
    "        y_next = y[-1]+dt/6*(f_1+2*f_2+2*f_3+f_4)\n",
    "        y.append(y_next)\n",
    "        t += dt\n",
    "        \n",
    "    return y"
   ]
  },
  {
   "cell_type": "code",
   "execution_count": 16,
   "metadata": {},
   "outputs": [],
   "source": [
    "classicSolution = classic(f=F, y0=[0]*(m-2), interval=[0,1], dt=dt)"
   ]
  },
  {
   "cell_type": "code",
   "execution_count": 17,
   "metadata": {},
   "outputs": [],
   "source": [
    "for i in range(len(classicSolution)):\n",
    "    classicSolution[i] = np.insert(classicSolution[i], 0, 0)\n",
    "    classicSolution[i] = np.append(classicSolution[i], 0)\n",
    "    \n",
    "classicSolution = np.array(classicSolution)"
   ]
  },
  {
   "cell_type": "code",
   "execution_count": 18,
   "metadata": {
    "scrolled": true
   },
   "outputs": [
    {
     "data": {
      "image/png": "[encoded data removed]",
      "text/plain": [
       "<Figure size 432x288 with 1 Axes>"
      ]
     },
     "metadata": {},
     "output_type": "display_data"
    }
   ],
   "source": [
    "i = 0\n",
    "for i in range(10):\n",
    "    plt.plot(classicSolution[i])\n",
    "    i += 1"
   ]
  },
  {
   "cell_type": "markdown",
   "metadata": {},
   "source": [
    "### 5 Порядок аппроксимации"
   ]
  },
  {
   "cell_type": "code",
   "execution_count": 19,
   "metadata": {},
   "outputs": [
    {
     "data": {
      "text/plain": [
       "0.8260144897438518"
      ]
     },
     "execution_count": 19,
     "metadata": {},
     "output_type": "execute_result"
    }
   ],
   "source": [
    "diff_c = []\n",
    "\n",
    "for i in range(len(exactSolution)):\n",
    "    diff_c.append(max(abs(exactSolution[i] - classicSolution[i])))\n",
    "    \n",
    "max(diff_c)/((dt**4)**2+(h**2)**2)**(0.5)"
   ]
  },
  {
   "cell_type": "code",
   "execution_count": null,
   "metadata": {},
   "outputs": [],
   "source": []
  },
  {
   "cell_type": "code",
   "execution_count": null,
   "metadata": {},
   "outputs": [],
   "source": []
  },
  {
   "cell_type": "code",
   "execution_count": null,
   "metadata": {},
   "outputs": [],
   "source": []
  }
 ],
 "metadata": {
  "kernelspec": {
   "display_name": "Python 3",
   "language": "python",
   "name": "python3"
  },
  "language_info": {
   "codemirror_mode": {
    "name": "ipython",
    "version": 3
   },
   "file_extension": ".py",
   "mimetype": "text/x-python",
   "name": "python",
   "nbconvert_exporter": "python",
   "pygments_lexer": "ipython3",
   "version": "3.7.3"
  }
 },
 "nbformat": 4,
 "nbformat_minor": 2
}
